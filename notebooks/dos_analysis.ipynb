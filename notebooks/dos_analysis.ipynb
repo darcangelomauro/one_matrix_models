{
 "cells": [
  {
   "cell_type": "code",
   "execution_count": 16,
   "metadata": {},
   "outputs": [],
   "source": [
    "import numpy as np\n",
    "import matplotlib.pyplot as plt"
   ]
  },
  {
   "cell_type": "code",
   "execution_count": 11,
   "metadata": {},
   "outputs": [],
   "source": [
    "def parse_init(init_filepath):\n",
    "    parameters = dict()\n",
    "    with open(init_filepath, 'r') as f_in:\n",
    "        for line in f_in:\n",
    "            line_ls = line.split()\n",
    "            \n",
    "            if line_ls[0] == 'N:':\n",
    "                parameters['N'] = int(line_ls[1])\n",
    "            elif line_ls[0] == 'NMEAS:':\n",
    "                parameters['NMEAS'] = int(line_ls[1])\n",
    "            elif line_ls[0] == 'GEOM:':\n",
    "                parameters['GEOM'] = line_ls[1]\n",
    "    return parameters\n",
    "\n",
    "def parse_g2_list(g2_list):\n",
    "    return [x.replace('-', 'n').replace('.', 'd') for x in g2_list]\n",
    "\n",
    "def parameters_to_name(parameters, g2):\n",
    "    return parameters['GEOM'] + 'N' + str(parameters['N']) + 'g' + g2\n",
    "\n"
   ]
  },
  {
   "cell_type": "code",
   "execution_count": 30,
   "metadata": {},
   "outputs": [
    {
     "name": "stdout",
     "output_type": "stream",
     "text": [
      "{'GEOM': 'p1q0', 'N': 1024, 'NMEAS': 1000}\n"
     ]
    }
   ],
   "source": [
    "path = '../data/20230528_1/'\n",
    "init_filepath = path + 'init.txt'\n",
    "parameters = parse_init(init_filepath)\n",
    "print(parameters)"
   ]
  },
  {
   "cell_type": "code",
   "execution_count": 31,
   "metadata": {},
   "outputs": [
    {
     "name": "stdout",
     "output_type": "stream",
     "text": [
      "['n3d5']\n"
     ]
    }
   ],
   "source": [
    "g2_list = ['-3.5']\n",
    "g2_list = parse_g2_list(g2_list)\n",
    "print(g2_list)"
   ]
  },
  {
   "cell_type": "code",
   "execution_count": 32,
   "metadata": {},
   "outputs": [],
   "source": [
    "for g2 in g2_list:\n",
    "    filename = parameters_to_name(parameters, g2)\n",
    "    S_data_filepath = path + g2 + '/' + filename + '_S.txt'\n",
    "    V_data_filepath = path + g2 + '/' + filename + '_V.txt'\n",
    "\n",
    "    S_list = []\n",
    "    with open(S_data_filepath, 'r') as S_in:\n",
    "        for line in S_in:\n",
    "            S_list.append(float(line))\n",
    "    \n",
    "    V_list = []\n",
    "    flat_V_list = []\n",
    "    with open(V_data_filepath, 'r') as V_in:\n",
    "        for line in V_in:\n",
    "            V_list.append([float(x) for x in line.split()])\n",
    "            for x in line.split():\n",
    "                flat_V_list.append(float(x))\n"
   ]
  },
  {
   "cell_type": "code",
   "execution_count": 33,
   "metadata": {},
   "outputs": [
    {
     "data": {
      "text/plain": [
       "<matplotlib.patches.StepPatch at 0x7f6863d28340>"
      ]
     },
     "execution_count": 33,
     "metadata": {},
     "output_type": "execute_result"
    },
    {
     "data": {
      "image/png": "[encoded data removed]",
      "text/plain": [
       "<Figure size 640x480 with 1 Axes>"
      ]
     },
     "metadata": {},
     "output_type": "display_data"
    }
   ],
   "source": [
    "counts, bins = np.histogram(flat_V_list, bins=40, density=True)\n",
    "plt.stairs(counts, bins)"
   ]
  },
  {
   "cell_type": "code",
   "execution_count": null,
   "metadata": {},
   "outputs": [],
   "source": []
  }
 ],
 "metadata": {
  "kernelspec": {
   "display_name": "python",
   "language": "python",
   "name": "python3"
  },
  "language_info": {
   "codemirror_mode": {
    "name": "ipython",
    "version": 3
   },
   "file_extension": ".py",
   "mimetype": "text/x-python",
   "name": "python",
   "nbconvert_exporter": "python",
   "pygments_lexer": "ipython3",
   "version": "3.9.16"
  },
  "orig_nbformat": 4,
  "vscode": {
   "interpreter": {
    "hash": "8b51c1151e306267a0d663e9b5fe9d2bc998aa6df978408f9ecdc3ae9756299a"
   }
  }
 },
 "nbformat": 4,
 "nbformat_minor": 2
}
